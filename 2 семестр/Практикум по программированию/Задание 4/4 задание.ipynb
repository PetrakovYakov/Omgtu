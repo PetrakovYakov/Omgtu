{
 "cells": [
  {
   "cell_type": "code",
   "execution_count": 5,
   "metadata": {
    "dotnet_interactive": {
     "language": "csharp"
    },
    "polyglot_notebook": {
     "kernelName": "csharp"
    }
   },
   "outputs": [
    {
     "name": "stdout",
     "output_type": "stream",
     "text": [
      "class EmbeddedAttribute\n",
      "Method: Equals | ReturnParameter: Boolean | GetParametrs: System.Object obj\n",
      "Method: GetHashCode | ReturnParameter: Int32 | GetParametrs: \n",
      "Method: get_TypeId | ReturnParameter: System.Object | GetParametrs: \n",
      "Method: Match | ReturnParameter: Boolean | GetParametrs: System.Object obj\n",
      "Method: IsDefaultAttribute | ReturnParameter: Boolean | GetParametrs: \n",
      "Method: GetType | ReturnParameter: System.Type | GetParametrs: \n",
      "Method: ToString | ReturnParameter: System.String | GetParametrs: \n",
      "\n",
      "\n",
      "class NullableAttribute\n",
      "Method: Equals | ReturnParameter: Boolean | GetParametrs: System.Object obj\n",
      "Method: GetHashCode | ReturnParameter: Int32 | GetParametrs: \n",
      "Method: get_TypeId | ReturnParameter: System.Object | GetParametrs: \n",
      "Method: Match | ReturnParameter: Boolean | GetParametrs: System.Object obj\n",
      "Method: IsDefaultAttribute | ReturnParameter: Boolean | GetParametrs: \n",
      "Method: GetType | ReturnParameter: System.Type | GetParametrs: \n",
      "Method: ToString | ReturnParameter: System.String | GetParametrs: \n",
      "\n",
      "\n",
      "class NullableContextAttribute\n",
      "Method: Equals | ReturnParameter: Boolean | GetParametrs: System.Object obj\n",
      "Method: GetHashCode | ReturnParameter: Int32 | GetParametrs: \n",
      "Method: get_TypeId | ReturnParameter: System.Object | GetParametrs: \n",
      "Method: Match | ReturnParameter: Boolean | GetParametrs: System.Object obj\n",
      "Method: IsDefaultAttribute | ReturnParameter: Boolean | GetParametrs: \n",
      "Method: GetType | ReturnParameter: System.Type | GetParametrs: \n",
      "Method: ToString | ReturnParameter: System.String | GetParametrs: \n",
      "\n",
      "\n",
      "class IoC\n",
      "Method: Resolve | ReturnParameter: T | GetParametrs: System.String dependency,System.Object[] args\n",
      "Method: GetType | ReturnParameter: System.Type | GetParametrs: \n",
      "Method: ToString | ReturnParameter: System.String | GetParametrs: \n",
      "Method: Equals | ReturnParameter: Boolean | GetParametrs: System.Object obj\n",
      "Method: GetHashCode | ReturnParameter: Int32 | GetParametrs: \n",
      "\n",
      "\n",
      "class SetupCommand\n",
      "Method: Execute | ReturnParameter: Void | GetParametrs: \n",
      "Method: GetType | ReturnParameter: System.Type | GetParametrs: \n",
      "Method: ToString | ReturnParameter: System.String | GetParametrs: \n",
      "Method: Equals | ReturnParameter: Boolean | GetParametrs: System.Object obj\n",
      "Method: GetHashCode | ReturnParameter: Int32 | GetParametrs: \n",
      "\n",
      "\n",
      "class <>c\n",
      "Method: GetType | ReturnParameter: System.Type | GetParametrs: \n",
      "Method: ToString | ReturnParameter: System.String | GetParametrs: \n",
      "Method: Equals | ReturnParameter: Boolean | GetParametrs: System.Object obj\n",
      "Method: GetHashCode | ReturnParameter: Int32 | GetParametrs: \n",
      "\n",
      "\n",
      "interface ICommand\n",
      "Method: Execute | ReturnParameter: Void | GetParametrs: \n",
      "\n",
      "\n"
     ]
    }
   ],
   "source": [
    "using System;\n",
    "using System.Reflection;\n",
    "Assembly s = Assembly.LoadFrom(\"core.dll\");\n",
    "var types = s.GetTypes();\n",
    "var type_class = types.Where(i=>i.IsClass);\n",
    "var type_interface = types.Where(i=>i.IsInterface).ToList();\n",
    "Information(type_class.ToList(),\"class\");\n",
    "Information(type_interface.ToList(),\"interface\");\n"
   ]
  },
  {
   "cell_type": "code",
   "execution_count": 6,
   "metadata": {
    "dotnet_interactive": {
     "language": "csharp"
    },
    "polyglot_notebook": {
     "kernelName": "csharp"
    }
   },
   "outputs": [],
   "source": [
    "public void Information(List<Type> types,string t)\n",
    "{\n",
    "    foreach(var type in types)\n",
    "{\n",
    "    Console.WriteLine(t+\" \"+type.Name);\n",
    "    var method = type.GetMethods();\n",
    "    foreach(var m in method)\n",
    "    {\n",
    "        Console.Write(\"Method: \"+m.Name+\" | ReturnParameter: \"+m.ReturnParameter+\" | GetParametrs: \");\n",
    "        string parametrs = string.Join(\",\", m.GetParameters().Select(p => p.ToString()));\n",
    "        Console.Write(parametrs);\n",
    "        Console.WriteLine();\n",
    "    }\n",
    "    Console.WriteLine(\"\\n\");\n",
    "}\n",
    "}"
   ]
  }
 ],
 "metadata": {
  "kernelspec": {
   "display_name": ".NET (C#)",
   "language": "C#",
   "name": ".net-csharp"
  },
  "language_info": {
   "name": "polyglot-notebook"
  },
  "polyglot_notebook": {
   "kernelInfo": {
    "defaultKernelName": "csharp",
    "items": [
     {
      "aliases": [],
      "languageName": "csharp",
      "name": "csharp"
     }
    ]
   }
  }
 },
 "nbformat": 4,
 "nbformat_minor": 2
}
