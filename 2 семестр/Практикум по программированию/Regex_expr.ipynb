{
 "cells": [
  {
   "cell_type": "code",
   "execution_count": 6,
   "metadata": {
    "dotnet_interactive": {
     "language": "csharp"
    },
    "polyglot_notebook": {
     "kernelName": "csharp"
    }
   },
   "outputs": [
    {
     "name": "stdout",
     "output_type": "stream",
     "text": [
      "ivan_petrov12@mail.ru.ylkjh Валидная электронная почта\n",
      "math_op.3@yandex.cjhhj Валидная электронная почта\n",
      "example@123mail.ru Валидная электронная почта\n"
     ]
    }
   ],
   "source": [
    "using System.Text.RegularExpressions;\n",
    "string pattern_email =@\"^[^-|.|@][\\w.-]+@[a-z-0-9\\.]+[a-z]{2,}$\";\n",
    "string [] email = {\"ivan_petrov12@mail.ru.ylkjh\",\"math_op.3@yandex.cjhhj\",\"example@123mail.ru\"};\n",
    "foreach(string i in email)\n",
    "{\n",
    "    Console.Write(i+\" \");\n",
    "    if(Regex.IsMatch(i,pattern_email))\n",
    "        Console.Write(\"Валидная электронная почта\");\n",
    "    else\n",
    "        Console.Write(\"Невалидная электронная почта\");\n",
    "    Console.WriteLine();\n",
    "}"
   ]
  },
  {
   "cell_type": "code",
   "execution_count": 7,
   "metadata": {
    "dotnet_interactive": {
     "language": "csharp"
    },
    "polyglot_notebook": {
     "kernelName": "csharp"
    }
   },
   "outputs": [
    {
     "name": "stdout",
     "output_type": "stream",
     "text": [
      "12:00idjks Валидное время\n",
      "00:59fklwk Валидное время\n",
      "iiuhi23:56fwgheh Валидное время\n",
      "13:07 Валидное время\n"
     ]
    }
   ],
   "source": [
    "using System.Text.RegularExpressions;\n",
    "string pattern_time = \"([01][0-9]|2[0-3]):[0-5][0-9]\";\n",
    "string [] time = {\"12:00idjks\",\"00:59fklwk\",\"iiuhi23:56fwgheh\",\"13:07\"};\n",
    "foreach(string i in time)\n",
    "{\n",
    "    Console.Write(i+\" \");\n",
    "    if(Regex.IsMatch(i,pattern_time))\n",
    "        Console.Write(\"Валидное время\");\n",
    "    else\n",
    "        Console.Write(\"Невалидное время\");\n",
    "    Console.WriteLine();\n",
    "}"
   ]
  },
  {
   "cell_type": "code",
   "execution_count": 8,
   "metadata": {
    "dotnet_interactive": {
     "language": "csharp"
    },
    "polyglot_notebook": {
     "kernelName": "csharp"
    }
   },
   "outputs": [
    {
     "name": "stdout",
     "output_type": "stream",
     "text": [
      "245 миллисекунд\n"
     ]
    }
   ],
   "source": [
    "using System.Diagnostics;\n",
    "var watch = Stopwatch.StartNew();\n",
    "string s = \"wertgydgds\";\n",
    "Random rand = new Random();\n",
    "int f;\n",
    "for(int i =0; i<1000000; i++)\n",
    "{\n",
    "    s=s.Replace(s[i%10],(char)rand.Next(0x0410, 0x44F));\n",
    "}\n",
    "watch.Stop();\n",
    "Console.WriteLine(watch.ElapsedMilliseconds+\" миллисекунд\");"
   ]
  },
  {
   "cell_type": "code",
   "execution_count": 9,
   "metadata": {
    "dotnet_interactive": {
     "language": "csharp"
    },
    "polyglot_notebook": {
     "kernelName": "csharp"
    }
   },
   "outputs": [
    {
     "name": "stdout",
     "output_type": "stream",
     "text": [
      "43 миллисекунд\n"
     ]
    }
   ],
   "source": [
    "using System.Diagnostics; \n",
    "var watch = Stopwatch.StartNew();\n",
    "StringBuilder sb = new StringBuilder(\"wertgydgds\");\n",
    "for(int i=0; i<1000000; i++)\n",
    "{\n",
    "    sb[i%10]=(char)rand.Next(0x0410, 0x44F);\n",
    "}\n",
    "sb.ToString();\n",
    "watch.Stop();\n",
    "Console.WriteLine(watch.ElapsedMilliseconds+\" миллисекунд\");"
   ]
  }
 ],
 "metadata": {
  "kernelspec": {
   "display_name": ".NET (C#)",
   "language": "C#",
   "name": ".net-csharp"
  },
  "language_info": {
   "name": "polyglot-notebook"
  },
  "polyglot_notebook": {
   "kernelInfo": {
    "defaultKernelName": "csharp",
    "items": [
     {
      "aliases": [],
      "languageName": "csharp",
      "name": "csharp"
     }
    ]
   }
  }
 },
 "nbformat": 4,
 "nbformat_minor": 2
}
